{
 "cells": [
  {
   "cell_type": "code",
   "execution_count": null,
   "id": "aab74dc8",
   "metadata": {},
   "outputs": [],
   "source": [
    "#selenium模块用于网页自动化\n",
    "from selenium import webdriver \n",
    "from selenium.webdriver.common.keys import Keys\n",
    "#time模块用于爬虫间的休眠，避免频繁访问\n",
    "import time\n",
    "#数据处理常用的pandas、numpy\n",
    "import pandas as pd\n",
    "import numpy as np"
   ]
  },
  {
   "cell_type": "code",
   "execution_count": null,
   "id": "34d06804",
   "metadata": {},
   "outputs": [],
   "source": [
    "import time\n",
    "from selenium.webdriver.common.keys import Keys\n",
    "\n",
    "url = r'https://exam.sac.net.cn/pages/registration/sac-publicity-report.html'\n",
    "\n",
    "driver = webdriver.Chrome()\n",
    "driver.get(url)\n",
    "\n",
    "def construct_url(a):\n",
    "    return r'https://exam.sac.net.cn/pages/registration/sac-publicity-finish.html?aoiId=' + a\n",
    "\n",
    "def catch_id(a):\n",
    "    return a.get_attribute('onclick').split('(')[1][:-1]\n",
    "\n",
    "#按6下空格，确保网页滑动到最底端，页面上内容全部加载完毕\n",
    "for i in range(6):\n",
    "    driver.find_element_by_tag_name('body').send_keys(Keys.END)\n",
    "    time.sleep(1)\n",
    "\n",
    "all_companies = driver.find_elements_by_xpath('//*[@id=\"publicityOtherList\"]/tr/td[2]/a')\n",
    "all_companies_names = [a.text for a in all_companies]\n",
    "all_companies_urls = [construct_url(catch_id(a)) for a in all_companies]\n",
    "print(all_companies_urls)\n",
    "\n",
    "driver.quit()"
   ]
  }
 ],
 "metadata": {
  "kernelspec": {
   "display_name": "Python 3 (ipykernel)",
   "language": "python",
   "name": "python3"
  },
  "language_info": {
   "codemirror_mode": {
    "name": "ipython",
    "version": 3
   },
   "file_extension": ".py",
   "mimetype": "text/x-python",
   "name": "python",
   "nbconvert_exporter": "python",
   "pygments_lexer": "ipython3",
   "version": "3.9.4"
  }
 },
 "nbformat": 4,
 "nbformat_minor": 5
}
