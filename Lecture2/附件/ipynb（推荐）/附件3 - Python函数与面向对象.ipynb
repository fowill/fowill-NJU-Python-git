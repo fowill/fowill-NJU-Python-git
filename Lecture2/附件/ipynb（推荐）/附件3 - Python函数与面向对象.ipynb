{
 "cells": [
  {
   "cell_type": "markdown",
   "metadata": {},
   "source": [
    "## 1.使用def语句定义函数"
   ]
  },
  {
   "cell_type": "code",
   "execution_count": 1,
   "metadata": {},
   "outputs": [
    {
     "name": "stdout",
     "output_type": "stream",
     "text": [
      "5\n"
     ]
    }
   ],
   "source": [
    "def plus(x,y): #使用def语句定义函数\n",
    "    z = x + y\n",
    "    return z\n",
    "\n",
    "print(plus(3,2))"
   ]
  },
  {
   "cell_type": "markdown",
   "metadata": {},
   "source": [
    "## 2.lambda与def的对比"
   ]
  },
  {
   "cell_type": "code",
   "execution_count": 2,
   "metadata": {},
   "outputs": [
    {
     "name": "stdout",
     "output_type": "stream",
     "text": [
      "5\n"
     ]
    }
   ],
   "source": [
    "customize = lambda x,y : x+y  #lambda后表示会使用的参数，冒号后表示返回值\n",
    "print(customize(3,2))"
   ]
  },
  {
   "cell_type": "markdown",
   "metadata": {},
   "source": [
    "## 3.变量作用域"
   ]
  },
  {
   "cell_type": "code",
   "execution_count": 3,
   "metadata": {},
   "outputs": [
    {
     "name": "stdout",
     "output_type": "stream",
     "text": [
      "Wrong!\n"
     ]
    }
   ],
   "source": [
    "def divide(x,y):\n",
    "    if y!=0:\n",
    "        z = x/y\n",
    "        return z\n",
    "    else:\n",
    "        z = 'Wrong!'\n",
    "        return z\n",
    "\n",
    "print(divide(3,0))"
   ]
  },
  {
   "cell_type": "code",
   "execution_count": 4,
   "metadata": {},
   "outputs": [
    {
     "ename": "NameError",
     "evalue": "name 'z' is not defined",
     "output_type": "error",
     "traceback": [
      "\u001b[0;31m---------------------------------------------------------------------------\u001b[0m",
      "\u001b[0;31mNameError\u001b[0m                                 Traceback (most recent call last)",
      "\u001b[0;32m<ipython-input-4-8e585b548864>\u001b[0m in \u001b[0;36m<module>\u001b[0;34m\u001b[0m\n\u001b[0;32m----> 1\u001b[0;31m \u001b[0mprint\u001b[0m\u001b[0;34m(\u001b[0m\u001b[0mz\u001b[0m\u001b[0;34m)\u001b[0m \u001b[0;31m#报错，因为局部变量z只能在定义其的divide函数体中调用\u001b[0m\u001b[0;34m\u001b[0m\u001b[0;34m\u001b[0m\u001b[0m\n\u001b[0m",
      "\u001b[0;31mNameError\u001b[0m: name 'z' is not defined"
     ]
    }
   ],
   "source": [
    "print(z) #报错，因为局部变量z只能在定义其的divide函数体中调用"
   ]
  },
  {
   "cell_type": "markdown",
   "metadata": {},
   "source": [
    "## 4.类的实例化"
   ]
  },
  {
   "cell_type": "code",
   "execution_count": 5,
   "metadata": {},
   "outputs": [],
   "source": [
    "class Department(): #使用class语句定义类\n",
    "    def __init__(self,name): #初始化方法，用来指定类被实例化时进行的操作\n",
    "        self.name = name\n",
    "    def callName(self): #类里可以用def定义该类包含的函数\n",
    "        print('我是'+self.name) #用+连接两个字符串(str)"
   ]
  },
  {
   "cell_type": "code",
   "execution_count": 6,
   "metadata": {},
   "outputs": [
    {
     "name": "stdout",
     "output_type": "stream",
     "text": [
      "<class '__main__.Department'>\n",
      "<class '__main__.Department'>\n"
     ]
    }
   ],
   "source": [
    "Finance = Department('财务部') #实例化一个Department类，__init__中的name参数设置为'财务部'，将实例化后的对象赋值给变量Finance\n",
    "RAndD = Department('开发部')\n",
    "\n",
    "print(type(Finance)) #Finance是Department类\n",
    "print(type(RAndD))"
   ]
  },
  {
   "cell_type": "code",
   "execution_count": 7,
   "metadata": {},
   "outputs": [
    {
     "name": "stdout",
     "output_type": "stream",
     "text": [
      "财务部\n"
     ]
    }
   ],
   "source": [
    "print(Finance.name) #用.调用类的属性（attributes）"
   ]
  },
  {
   "cell_type": "code",
   "execution_count": 8,
   "metadata": {},
   "outputs": [
    {
     "name": "stdout",
     "output_type": "stream",
     "text": [
      "我是财务部\n"
     ]
    }
   ],
   "source": [
    "Finance.callName() #用.调用类的方法（methods）"
   ]
  }
 ],
 "metadata": {
  "kernelspec": {
   "display_name": "Python 3",
   "language": "python",
   "name": "python3"
  },
  "language_info": {
   "codemirror_mode": {
    "name": "ipython",
    "version": 3
   },
   "file_extension": ".py",
   "mimetype": "text/x-python",
   "name": "python",
   "nbconvert_exporter": "python",
   "pygments_lexer": "ipython3",
   "version": "3.7.3"
  }
 },
 "nbformat": 4,
 "nbformat_minor": 2
}
