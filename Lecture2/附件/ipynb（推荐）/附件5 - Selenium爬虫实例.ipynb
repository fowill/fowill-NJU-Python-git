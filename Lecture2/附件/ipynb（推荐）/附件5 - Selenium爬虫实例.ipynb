{
 "cells": [
  {
   "cell_type": "code",
   "execution_count": null,
   "metadata": {},
   "outputs": [],
   "source": [
    "#如果该部分报错请检查自己是否成功安装并配置selenium所需环境\n",
    "\n",
    "from selenium import webdriver #使用webdriver来驱动浏览器打开网页，从而和网页进行点击等交互，使页面展示所有信息\n",
    "import time #time模块的sleep函数可以让程序“睡一会儿”，等待网页交互时的加载\n",
    "import xlwt #使用xlwt模块来创建和写入excel文件"
   ]
  },
  {
   "cell_type": "code",
   "execution_count": null,
   "metadata": {},
   "outputs": [],
   "source": [
    "url = 'https://m.haodf.com//doctorteam/flow_team_6480090760.htm' #待爬取页面，字符串形式"
   ]
  },
  {
   "cell_type": "code",
   "execution_count": null,
   "metadata": {},
   "outputs": [],
   "source": [
    "#以下代码默认已配置好webdriver和环境变量，并使用Chrome浏览器进行操作\n",
    "\n",
    "#step1:初始化\n",
    "\n",
    "driver = webdriver.Chrome() #实例化一个Chrome类，赋予给driver变量\n",
    "driver.get(url) #打开指定页面\n",
    "\n",
    "#step2:不停点击“加载更多”按钮，让页面展示全部内容\n",
    "\n",
    "#使用driver.find_element_by_xpath方法，传入xpath（右键-copy-copy xpath），定位到“加载更多”按钮\n",
    "#“加载更多”按钮是一个对象，它的text属性表示了该按钮的文字\n",
    "#我们关注text属性的后四个字符是否是“加载更多”，如果是，说明该按钮依然可以点击，如果不是，说明变成了“没有更多数据～”，页面信息展示完毕\n",
    "#使用while循环，一直点击按钮，直到按钮内容变成“没有更多数据～”\n",
    "\n",
    "while driver.find_element_by_xpath('/html/body/section[3]/a').text[-4:] == '加载更多':\n",
    "    button = driver.find_element_by_xpath('/html/body/section[3]/a') #定位到“加载更多”按钮这个对象，赋值给button变量\n",
    "    driver.execute_script(\"arguments[0].click();\", button) #让button按钮执行点击命令\n",
    "    time.sleep(1.5) #睡1.5s，等待网页加载出新的对话内容\n",
    "\n",
    "#step3：在本地建立存储数据的excel文件\n",
    "\n",
    "workbook = xlwt.Workbook(encoding = 'utf-8') #实例化一个xlwt.Workbook类，赋值给workbook变量\n",
    "worksheet = workbook.add_sheet('好大夫') #使用xlwt.Workbook类的add_sheet方法，添加一个新工作表\n",
    "#建立表头\n",
    "worksheet.write(0,0,'医生姓名') #使用xlwt.Workbook类的write方法,在第一行第一列的单元格，写入“医生姓名”\n",
    "worksheet.write(0,1,'医生文本') #同上，注意0代表第一行，1代表第二列（Python计数从0开始，0是第一个索引）\n",
    "worksheet.write(0,2,'患者')\n",
    "worksheet.write(0,3,'患者文本')\n",
    "workbook.save('data.xls') #将该对象保存成data.xls，不指定详细路径的话，默认存在当前工作目录（即该附件5所在的目录）\n",
    "\n",
    "\n",
    "#step4:抓取网页对话信息，存储到excel文件中\n",
    "\n",
    "#使用driver.find_elements_by_xpath（注意是elements）命令寻找符合该xpath的所有元素，将这些元素存储在一个列表（list）中\n",
    "#注意xpath的开头，//*表示筛选所有符合后面xpath地址要求的元素。\n",
    "#[@class=\"ele-left\"]表示满足class属性为\"ele-left\"的元素\n",
    "#/div[1]/div/p 表示下属第一个div标签的下属div标签的下属p标签\n",
    "\n",
    "doctors = driver.find_elements_by_xpath('//*[@class=\"ele-left\"]/div[1]/div/p') #找到了所有医生名称对应的元素\n",
    "for m in range(len(doctors)): #遍历列表（list）中的元素，将它们的text属性写入excle\n",
    "    worksheet.write(m+1,0,doctors[m].text)\n",
    "\n",
    "doctorsTexts = driver.find_elements_by_xpath('//*[@class=\"ele-left\"]/div[2]/p[1]') #找到了所有医生发言对应的元素\n",
    "for m in range(len(doctorsTexts)):\n",
    "    worksheet.write(m+1,1,doctorsTexts[m].text)\n",
    "\n",
    "patents = driver.find_elements_by_xpath('//*[@class=\"ele-right\"]/div[1]/div/p') #找到了所有患者名称对应的元素\n",
    "for m in range(len(patents)):\n",
    "    worksheet.write(m+1,2,patents[m].text)\n",
    "\n",
    "patentsTexts = driver.find_elements_by_xpath('//*[@class=\"ele-right\"]/div[2]/p[1]') #找到了所有患者发言对应的元素\n",
    "for m in range(len(patentsTexts)):\n",
    "    worksheet.write(m+1,3,patentsTexts[m].text)\n",
    "\n",
    "workbook.save('data.xls') #再次保存excel文件\n",
    "\n",
    "driver.quit() #系统关闭刚刚打开的浏览器窗口\n",
    "\n",
    "print('finished')"
   ]
  }
 ],
 "metadata": {
  "kernelspec": {
   "display_name": "Python 3",
   "language": "python",
   "name": "python3"
  },
  "language_info": {
   "codemirror_mode": {
    "name": "ipython",
    "version": 3
   },
   "file_extension": ".py",
   "mimetype": "text/x-python",
   "name": "python",
   "nbconvert_exporter": "python",
   "pygments_lexer": "ipython3",
   "version": "3.7.3"
  }
 },
 "nbformat": 4,
 "nbformat_minor": 2
}
