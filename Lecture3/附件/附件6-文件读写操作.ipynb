{
 "cells": [
  {
   "cell_type": "markdown",
   "metadata": {},
   "source": [
    "# 注意，发送的data文件夹应该和本附件在同一文件夹下"
   ]
  },
  {
   "cell_type": "markdown",
   "metadata": {},
   "source": [
    "## 1.打开文件"
   ]
  },
  {
   "cell_type": "code",
   "execution_count": null,
   "metadata": {},
   "outputs": [],
   "source": [
    "#使用open语句\n",
    "f = open('./data/text1.txt','r+') #./表示当前文件夹，选定模式为r+\n",
    "print(type(f)) #返回一个file对象\n",
    "f.close() #解放内存是个好习惯"
   ]
  },
  {
   "cell_type": "code",
   "execution_count": null,
   "metadata": {},
   "outputs": [],
   "source": [
    "#使用with open语句\n",
    "with open('./data/text1.txt','r+') as f:\n",
    "    print(type(f))\n",
    "\n",
    "#with语句会自动解放内存"
   ]
  },
  {
   "cell_type": "markdown",
   "metadata": {},
   "source": [
    "## 2.文件对象的读操作"
   ]
  },
  {
   "cell_type": "code",
   "execution_count": null,
   "metadata": {},
   "outputs": [],
   "source": [
    "f = open('./data/text1.txt','r+')\n",
    "print(f.read())"
   ]
  },
  {
   "cell_type": "code",
   "execution_count": null,
   "metadata": {},
   "outputs": [],
   "source": [
    "print(f.readlines()) #阅读光标已经到了末尾，所以读完了，无法再读取"
   ]
  },
  {
   "cell_type": "code",
   "execution_count": null,
   "metadata": {},
   "outputs": [],
   "source": [
    "f.seek(0,0) #将阅读光标重新设置至开头\n",
    "f.readlines() #又可以读取所有行了，readines()返回为列表List"
   ]
  },
  {
   "cell_type": "markdown",
   "metadata": {},
   "source": [
    "## 3.文件对象的写操作"
   ]
  },
  {
   "cell_type": "code",
   "execution_count": null,
   "metadata": {},
   "outputs": [],
   "source": [
    "with open('./data/text2.txt','w+') as f: #w和w+模式如果未找到文件，会自己创建一个\n",
    "    f.write('这是没有覆盖的哦')\n",
    "with open('./data/text2.txt','r+') as f:\n",
    "    print(f.read())"
   ]
  },
  {
   "cell_type": "code",
   "execution_count": null,
   "metadata": {},
   "outputs": [],
   "source": [
    "with open('./data/text2.txt','w+') as f: #w和w+模式如果找到文件，会覆盖掉之前的记录\n",
    "    f.write('这是覆盖的哦')\n",
    "with open('./data/text2.txt','r+') as f:\n",
    "    print(f.read())"
   ]
  },
  {
   "cell_type": "code",
   "execution_count": null,
   "metadata": {},
   "outputs": [],
   "source": [
    "with open('./data/text2.txt','a+') as f: #a和a+模式不会覆盖，而是从末尾开始添加内容\n",
    "    f.write('\\n')\n",
    "    f.write('这是增加的哦')\n",
    "with open('./data/text2.txt','r+') as f:\n",
    "    print(f.read())"
   ]
  },
  {
   "cell_type": "markdown",
   "metadata": {},
   "source": [
    "## 4.os模块的操作"
   ]
  },
  {
   "cell_type": "code",
   "execution_count": null,
   "metadata": {},
   "outputs": [],
   "source": [
    "import os"
   ]
  },
  {
   "cell_type": "code",
   "execution_count": null,
   "metadata": {},
   "outputs": [],
   "source": [
    "print(os.getcwd()) #获取当前工作路径\n",
    "os.listdir() #列出下属文件和文件夹名"
   ]
  },
  {
   "cell_type": "code",
   "execution_count": null,
   "metadata": {},
   "outputs": [],
   "source": [
    "os.chdir('./data') #变更当前工作目录至text子文件夹\n",
    "print(os.getcwd())"
   ]
  },
  {
   "cell_type": "code",
   "execution_count": null,
   "metadata": {},
   "outputs": [],
   "source": [
    "os.listdir()"
   ]
  },
  {
   "cell_type": "code",
   "execution_count": null,
   "metadata": {},
   "outputs": [],
   "source": [
    "os.listdir('../') #列出当前工作路径父文件夹下的名称，../表示上一级"
   ]
  },
  {
   "cell_type": "markdown",
   "metadata": {},
   "source": [
    "## 5.使用xlrd阅读Excel文件"
   ]
  },
  {
   "cell_type": "code",
   "execution_count": null,
   "metadata": {},
   "outputs": [],
   "source": [
    "import os\n",
    "os.chdir('/Users/fowillwly/Jupyter/NJU-Python') #请更换至你放置此.ipynb的路径，保证该路径下有data文件夹"
   ]
  },
  {
   "cell_type": "code",
   "execution_count": null,
   "metadata": {},
   "outputs": [],
   "source": [
    "import xlrd"
   ]
  },
  {
   "cell_type": "code",
   "execution_count": null,
   "metadata": {},
   "outputs": [],
   "source": [
    "#打开一个workbook，返回为Book对象\n",
    "wb = xlrd.open_workbook('./data/excel1.xls') \n",
    "print(type(wb))"
   ]
  },
  {
   "cell_type": "code",
   "execution_count": null,
   "metadata": {},
   "outputs": [],
   "source": [
    "#返回workbook中的sheet名称\n",
    "wb.sheet_names()"
   ]
  },
  {
   "cell_type": "code",
   "execution_count": null,
   "metadata": {},
   "outputs": [],
   "source": [
    "#定位到sheet，返回为Sheet对象\n",
    "sheet = wb.sheet_by_name('好大夫')\n",
    "type(sheet)"
   ]
  },
  {
   "cell_type": "code",
   "execution_count": null,
   "metadata": {},
   "outputs": [],
   "source": [
    "#返回该Sheet（工作簿）的行数和列数\n",
    "print(sheet.nrows)\n",
    "print(sheet.ncols)"
   ]
  },
  {
   "cell_type": "code",
   "execution_count": null,
   "metadata": {},
   "outputs": [],
   "source": [
    "#定位到第一行\n",
    "sheet.row_values(0)"
   ]
  },
  {
   "cell_type": "code",
   "execution_count": null,
   "metadata": {},
   "outputs": [],
   "source": [
    "#定位到第二列\n",
    "sheet.col_values(1)"
   ]
  },
  {
   "cell_type": "markdown",
   "metadata": {},
   "source": [
    "## 6.使用xlwt写入Excel文件"
   ]
  },
  {
   "cell_type": "code",
   "execution_count": null,
   "metadata": {},
   "outputs": [],
   "source": [
    "import os\n",
    "os.chdir('/Users/fowillwly/Jupyter/NJU-Python') #请更换至你放置此.ipynb的路径，保证该路径下有data文件夹"
   ]
  },
  {
   "cell_type": "code",
   "execution_count": null,
   "metadata": {},
   "outputs": [],
   "source": [
    "import xlwt"
   ]
  },
  {
   "cell_type": "code",
   "execution_count": null,
   "metadata": {},
   "outputs": [],
   "source": [
    "workbook = xlwt.Workbook(encoding = 'utf-8') #实例化一个xlwt.Workbook类，赋值给workbook变量\n",
    "worksheet = workbook.add_sheet('好大夫') #使用xlwt.Workbook类的add_sheet方法，添加一个新工作表"
   ]
  },
  {
   "cell_type": "code",
   "execution_count": null,
   "metadata": {},
   "outputs": [],
   "source": [
    "worksheet.write(0,0,'医生姓名') #使用xlwt.Workbook类的write方法,在第一行第一列的单元格，写入“医生姓名”\n",
    "worksheet.write(0,1,'医生文本') #同上，注意0代表第一行，1代表第二列（Python计数从0开始，0是第一个索引）\n",
    "worksheet.write(0,2,'患者')\n",
    "worksheet.write(0,3,'患者文本')\n",
    "workbook.save('./data/excel2.xls') #将该对象保存成data.xls"
   ]
  },
  {
   "cell_type": "markdown",
   "metadata": {},
   "source": [
    "## 7.使用Akshare读取金融接口数据"
   ]
  },
  {
   "cell_type": "code",
   "execution_count": null,
   "metadata": {},
   "outputs": [],
   "source": [
    "# Akshare的文档：https://akshare-4gize6tod19f2d2e-1252952517.tcloudbaseapp.com/tutorial.html\n",
    "# Akshare的安装：https://akshare-4gize6tod19f2d2e-1252952517.tcloudbaseapp.com/installation.html"
   ]
  },
  {
   "cell_type": "code",
   "execution_count": null,
   "metadata": {},
   "outputs": [],
   "source": [
    "import akshare as ak"
   ]
  },
  {
   "cell_type": "code",
   "execution_count": null,
   "metadata": {},
   "outputs": [],
   "source": [
    "zdzk_fund_index_df = ak.zdzk_fund_index(index_type=32, plot=False) #读取智道智科-私募指数数据\n",
    "print(zdzk_fund_index_df)"
   ]
  }
 ],
 "metadata": {
  "kernelspec": {
   "display_name": "Python 3",
   "language": "python",
   "name": "python3"
  },
  "language_info": {
   "codemirror_mode": {
    "name": "ipython",
    "version": 3
   },
   "file_extension": ".py",
   "mimetype": "text/x-python",
   "name": "python",
   "nbconvert_exporter": "python",
   "pygments_lexer": "ipython3",
   "version": "3.7.3"
  }
 },
 "nbformat": 4,
 "nbformat_minor": 2
}
