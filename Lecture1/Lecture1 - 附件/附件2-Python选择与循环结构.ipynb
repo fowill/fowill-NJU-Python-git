{
 "cells": [
  {
   "cell_type": "markdown",
   "metadata": {},
   "source": [
    "## Python选择结构"
   ]
  },
  {
   "cell_type": "markdown",
   "metadata": {},
   "source": [
    "* 选择结构通过条件来判断执行什么样的代码块\n",
    "* 代码块通过缩进确定，缩进程度相同的代码为一个代码块\n",
    "* 最简单的if语句，如果if的条件满足，则执行if下面的代码块\n",
    "* 注意if语句的冒号，一般规定，冒号后下一行自动缩进\n",
    "* 缩进的方法为打四个空格，或tab键（不建议）"
   ]
  },
  {
   "cell_type": "code",
   "execution_count": null,
   "metadata": {},
   "outputs": [],
   "source": [
    "a = 2\n",
    "b = 1\n",
    "\n",
    "if a>b:\n",
    "    print('a更大')                                   # 这是\n",
    "    print('\\n')#  转义字符,\\n代表空一行                #  一个\n",
    "    print(a)                                        #  代码块\n",
    "\n",
    "if b>a:\n",
    "    print('b更大')                                   # 这是\n",
    "    print('\\n')#  转义字符,\\n代表空一行                #  另一个\n",
    "    print(b)                                        #  代码块"
   ]
  },
  {
   "cell_type": "markdown",
   "metadata": {},
   "source": [
    "* if-else型\n",
    "* 如果if对应的条件无法满足，则执行else下面的代码块"
   ]
  },
  {
   "cell_type": "code",
   "execution_count": null,
   "metadata": {},
   "outputs": [],
   "source": [
    "a = 1\n",
    "b = 2\n",
    "\n",
    "if a>b:\n",
    "    print('a更大')                                   # 这是\n",
    "    print('\\n')#  转义字符,\\n代表空一行                #  一个\n",
    "    print(a)                                        #  代码块\n",
    "else:\n",
    "    print('这是一个意外')                             #这是另一个代码块"
   ]
  },
  {
   "cell_type": "markdown",
   "metadata": {},
   "source": [
    "* if-elif型\n",
    "* 如果if对应的条件无法满足，则判断elif的条件，如果成立则执行elif下面的代码块"
   ]
  },
  {
   "cell_type": "code",
   "execution_count": null,
   "metadata": {},
   "outputs": [],
   "source": [
    "a = 1\n",
    "b = 2\n",
    "\n",
    "if a>b:\n",
    "    print('a更大')                                   # 这是\n",
    "    print('\\n')#  转义字符,\\n代表空一行                #  一个\n",
    "    print(a)                                        #  代码块\n",
    "elif a==1: #注意，相等用==来判断！\n",
    "    print('a=1')                             #这是另一个代码块"
   ]
  },
  {
   "cell_type": "markdown",
   "metadata": {},
   "source": [
    "* if语句可以进行无限嵌套\n",
    "* 注意多层嵌套时的缩进"
   ]
  },
  {
   "cell_type": "code",
   "execution_count": null,
   "metadata": {},
   "outputs": [],
   "source": [
    "a = 2\n",
    "b = 1\n",
    "\n",
    "if a>b:\n",
    "    print('a更大')\n",
    "    if a == 2:\n",
    "        print('且a=2')   #注意二重缩进"
   ]
  },
  {
   "cell_type": "markdown",
   "metadata": {},
   "source": [
    "## Python循环结构"
   ]
  },
  {
   "cell_type": "markdown",
   "metadata": {},
   "source": [
    "* 循环结构是重复执行代码的方式\n",
    "* 分为for循环和while循环"
   ]
  },
  {
   "cell_type": "markdown",
   "metadata": {},
   "source": [
    "* for循环的语法： for x in xxx，对一个可迭代对象进行遍历\n",
    "* for循环会在每遍历一个元素时，执行一遍下面代码块的内容"
   ]
  },
  {
   "cell_type": "code",
   "execution_count": null,
   "metadata": {},
   "outputs": [],
   "source": [
    "for a in [1,2,3,4]:\n",
    "    print(a)"
   ]
  },
  {
   "cell_type": "markdown",
   "metadata": {},
   "source": [
    "* 使用range函数生成一个可迭代的对象"
   ]
  },
  {
   "cell_type": "code",
   "execution_count": null,
   "metadata": {},
   "outputs": [],
   "source": [
    "for i in range(10): #range(10)生成0-9共十个元素\n",
    "    print(i)"
   ]
  },
  {
   "cell_type": "markdown",
   "metadata": {},
   "source": [
    "* while循环的语法： while xxx, 每次进行循环时，检查一遍xxx是否符合条件，如果是，就执行代码块\n",
    "* 只有while的条件不符合时，循环才会终止，因此要防止无限循环（死循环）的发生"
   ]
  },
  {
   "cell_type": "code",
   "execution_count": null,
   "metadata": {
    "scrolled": true
   },
   "outputs": [],
   "source": [
    "i = 1\n",
    "while i<=10:  # ==用来判断是否相等，>=，<=分别用来判断是否大于等于、是否小于等于\n",
    "    print(i)\n",
    "    i+=1 # 等同于 i=i+1，将i+1的值重新赋予给变量i"
   ]
  },
  {
   "cell_type": "code",
   "execution_count": null,
   "metadata": {},
   "outputs": [],
   "source": [
    "#Over, Thx!\n",
    "#Liangyu Wu 9.26"
   ]
  }
 ],
 "metadata": {
  "kernelspec": {
   "display_name": "Python 3",
   "language": "python",
   "name": "python3"
  },
  "language_info": {
   "codemirror_mode": {
    "name": "ipython",
    "version": 3
   },
   "file_extension": ".py",
   "mimetype": "text/x-python",
   "name": "python",
   "nbconvert_exporter": "python",
   "pygments_lexer": "ipython3",
   "version": "3.7.3"
  }
 },
 "nbformat": 4,
 "nbformat_minor": 2
}
