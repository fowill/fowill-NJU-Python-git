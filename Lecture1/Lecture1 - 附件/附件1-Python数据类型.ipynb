{
 "cells": [
  {
   "cell_type": "markdown",
   "metadata": {},
   "source": [
    "## Python的基本数据类型——Number类（数字类）"
   ]
  },
  {
   "cell_type": "markdown",
   "metadata": {},
   "source": [
    "* print( )函数用来打印括号内的内容\n",
    "* type( )函数返回括号内对象的类型"
   ]
  },
  {
   "cell_type": "markdown",
   "metadata": {},
   "source": [
    "### 试着先自己猜测结果，然后运行进行对比！"
   ]
  },
  {
   "cell_type": "code",
   "execution_count": null,
   "metadata": {},
   "outputs": [],
   "source": [
    "#int 长整型，存储整数\n",
    "print(type(1))"
   ]
  },
  {
   "cell_type": "code",
   "execution_count": null,
   "metadata": {},
   "outputs": [],
   "source": [
    "#float 浮点型，存储小数\n",
    "print(type(1.1))\n",
    "print(type(1.0))"
   ]
  },
  {
   "cell_type": "code",
   "execution_count": null,
   "metadata": {},
   "outputs": [],
   "source": [
    "#bool 布尔型，存储真假\n",
    "print(type(True))\n",
    "print(type(False))"
   ]
  },
  {
   "cell_type": "code",
   "execution_count": null,
   "metadata": {},
   "outputs": [],
   "source": [
    "#complex 存储复数\n",
    "print(type(4+3j)) #4为实部，3为虚部\n",
    "print(type((4+3j)*(4-3j)))"
   ]
  },
  {
   "cell_type": "markdown",
   "metadata": {},
   "source": [
    "### Number类的数学运算"
   ]
  },
  {
   "cell_type": "code",
   "execution_count": null,
   "metadata": {},
   "outputs": [],
   "source": [
    "print(5+4) #加法\n",
    "print(5-4) #减法\n",
    "print(5*4) #乘法\n",
    "print(5/4) #除法"
   ]
  },
  {
   "cell_type": "code",
   "execution_count": null,
   "metadata": {},
   "outputs": [],
   "source": [
    "print(5//2) #整除\n",
    "print(type(5//2)) #整除返回int类型\n",
    "\n",
    "print(5 % 2) #取余\n",
    "print(5 ** 2) #乘方"
   ]
  },
  {
   "cell_type": "markdown",
   "metadata": {},
   "source": [
    "## Python的基本数据类型——String类（字符串类）"
   ]
  },
  {
   "cell_type": "markdown",
   "metadata": {},
   "source": [
    "* Python中的的字符串用''或\"\"括起来\n",
    "* 使用反斜杠\\转义特殊字符，具体规则见：https://www.cnblogs.com/zhenwu/p/11236232.html"
   ]
  },
  {
   "cell_type": "markdown",
   "metadata": {},
   "source": [
    "* 字符串的截取方式：  变量[头下标:尾下标]"
   ]
  },
  {
   "cell_type": "markdown",
   "metadata": {},
   "source": [
    "![avatar](https://static.runoob.com/wp-content/uploads/123456-20200923-1.svg)"
   ]
  },
  {
   "cell_type": "code",
   "execution_count": null,
   "metadata": {},
   "outputs": [],
   "source": [
    "#字符串的定位操作\n",
    "\n",
    "s = 'Python'\n",
    "\n",
    "print(s[0]) #索引从0开始！\n",
    "print(s[1]) #s[1]实际是s的第2个字符\n",
    "print(s[-1]) #倒数第一个"
   ]
  },
  {
   "cell_type": "code",
   "execution_count": null,
   "metadata": {},
   "outputs": [],
   "source": [
    "#字符串的截取操作\n",
    "\n",
    "s = '01234567'\n",
    "print(s[0:2]) #注意，包括了s[0],s[1],并没有包括s[2]!!!\n",
    "\n",
    "print(s[1:]) #截取索引1至最后\n",
    "\n",
    "print(s[-3:]) #截取倒数第3个索引至最后"
   ]
  },
  {
   "cell_type": "code",
   "execution_count": null,
   "metadata": {},
   "outputs": [],
   "source": [
    "#字符串的连接\n",
    "\n",
    "s1 = 'Pyth'\n",
    "s2 = 'on'\n",
    "\n",
    "print(s1+s2) #用+号连接\n",
    "\n",
    "s3 = 'ha'\n",
    "print(3*s3) #用*号重复"
   ]
  },
  {
   "cell_type": "code",
   "execution_count": null,
   "metadata": {},
   "outputs": [],
   "source": [
    "#用\\来转义字符\n",
    "\n",
    "print('Py\\nthon') #\\n 表示空行"
   ]
  },
  {
   "cell_type": "code",
   "execution_count": null,
   "metadata": {},
   "outputs": [],
   "source": [
    "#在字符串前标记r避免转义\n",
    "\n",
    "print(r'Py\\nthon')"
   ]
  },
  {
   "cell_type": "code",
   "execution_count": null,
   "metadata": {},
   "outputs": [],
   "source": [
    "#用\\\\表示非转义的\\，避免产生误会\n",
    "\n",
    "print('\\\\')"
   ]
  },
  {
   "cell_type": "markdown",
   "metadata": {},
   "source": [
    "* 与 C 字符串不同的是，Python 字符串不能被改变。向一个索引位置赋值"
   ]
  },
  {
   "cell_type": "code",
   "execution_count": null,
   "metadata": {},
   "outputs": [],
   "source": [
    "s = '123456'\n",
    "s[0] = 0 #报错"
   ]
  },
  {
   "cell_type": "markdown",
   "metadata": {},
   "source": [
    "## Python的基本数据类型——List类（列表类）"
   ]
  },
  {
   "cell_type": "markdown",
   "metadata": {},
   "source": [
    "* 列表可以完成大多数集合类的数据结构实现。列表中元素的类型可以不相同，它支持数字，字符串甚至可以包含列表（所谓嵌套）。\n",
    "* 列表是写在方括号 [ ] 之间、用逗号分隔开的元素列表。\n",
    "* 列表是序列类型，列表中元素的顺序是固定的"
   ]
  },
  {
   "cell_type": "markdown",
   "metadata": {},
   "source": [
    "* 各种列表形式"
   ]
  },
  {
   "cell_type": "code",
   "execution_count": null,
   "metadata": {},
   "outputs": [],
   "source": [
    "print([1,2,3])\n",
    "print(['a','b','c'])\n",
    "print([1,'b',3])\n",
    "\n",
    "print([1,[2,3]])"
   ]
  },
  {
   "cell_type": "markdown",
   "metadata": {},
   "source": [
    "* 列表的截取和字符串逻辑相似"
   ]
  },
  {
   "cell_type": "code",
   "execution_count": null,
   "metadata": {},
   "outputs": [],
   "source": [
    "s = [0,1,2,3,4,5,6,7]\n",
    "\n",
    "print(s[0:2]) #注意，包括了s[0],s[1],并没有包括s[2]!!!\n",
    "\n",
    "print(s[1:]) #截取索引1至最后\n",
    "\n",
    "print(s[-3:]) #截取倒数第3个索引至最后"
   ]
  },
  {
   "cell_type": "markdown",
   "metadata": {},
   "source": [
    "* 与字符串不同的是，Python列表可以被改变。向一个索引位置赋值"
   ]
  },
  {
   "cell_type": "code",
   "execution_count": null,
   "metadata": {},
   "outputs": [],
   "source": [
    "s = [1,2,3,4,5,6]\n",
    "s[0] = 0\n",
    "print(s)"
   ]
  },
  {
   "cell_type": "markdown",
   "metadata": {},
   "source": [
    "* 列表间可以连接"
   ]
  },
  {
   "cell_type": "code",
   "execution_count": null,
   "metadata": {},
   "outputs": [],
   "source": [
    "l1 = [1,2,3]\n",
    "l2 = [4,5,6]\n",
    "\n",
    "print(l1+l2)\n",
    "print(l2+l1)"
   ]
  },
  {
   "cell_type": "markdown",
   "metadata": {},
   "source": [
    "* 和列表相关的常用方法"
   ]
  },
  {
   "cell_type": "code",
   "execution_count": null,
   "metadata": {},
   "outputs": [],
   "source": [
    "ls = [1,2,3,4,5]\n",
    "print(min(ls))\n",
    "print(max(ls))\n",
    "print(len(ls)) #list长度"
   ]
  },
  {
   "cell_type": "markdown",
   "metadata": {},
   "source": [
    "* 列表的常用操作——从尾端更新列表"
   ]
  },
  {
   "cell_type": "code",
   "execution_count": null,
   "metadata": {},
   "outputs": [],
   "source": [
    "ls = [1,2,3,4]\n",
    "ls.append(5)\n",
    "print(ls)"
   ]
  },
  {
   "cell_type": "markdown",
   "metadata": {},
   "source": [
    "* 列表的常用操作——删除元素 "
   ]
  },
  {
   "cell_type": "code",
   "execution_count": null,
   "metadata": {},
   "outputs": [],
   "source": [
    "ls = [1,2,3,4]\n",
    "del(ls[0])\n",
    "print(ls)"
   ]
  },
  {
   "cell_type": "markdown",
   "metadata": {},
   "source": [
    "* 列表的常用操作——插入元素"
   ]
  },
  {
   "cell_type": "code",
   "execution_count": null,
   "metadata": {},
   "outputs": [],
   "source": [
    "ls = [1,2,3,5]\n",
    "ls.insert(3,4)\n",
    "print(ls)"
   ]
  },
  {
   "cell_type": "markdown",
   "metadata": {},
   "source": [
    "## Python的基本数据类型——Tuple类（元组类）"
   ]
  },
  {
   "cell_type": "markdown",
   "metadata": {},
   "source": [
    "* 元组（tuple）与列表类似，不同之处在于元组的元素不能修改。元组写在小括号 ( ) 里，元素之间用逗号隔开。\n",
    "* 元组中的元素类型也可以不相同：\n",
    "* 元组为序列类型，元素之间的顺序是固定的"
   ]
  },
  {
   "cell_type": "code",
   "execution_count": null,
   "metadata": {},
   "outputs": [],
   "source": [
    "t = (1,2,3,4)\n",
    "print(type(t))\n",
    "\n",
    "print(t[0])"
   ]
  },
  {
   "cell_type": "code",
   "execution_count": null,
   "metadata": {},
   "outputs": [],
   "source": [
    "t[0] = 0"
   ]
  },
  {
   "cell_type": "markdown",
   "metadata": {},
   "source": [
    "## Python的基本数据类型——Set类（集合类）"
   ]
  },
  {
   "cell_type": "markdown",
   "metadata": {},
   "source": [
    "* 用{}或set( )来创建一个集合,set( )函数要求输入为一个可迭代的对象"
   ]
  },
  {
   "cell_type": "code",
   "execution_count": null,
   "metadata": {},
   "outputs": [],
   "source": [
    "s1 = set([1,2,3])\n",
    "s2 = {1,2,3}\n",
    "\n",
    "print(type(s1))\n",
    "print(type(s2))"
   ]
  },
  {
   "cell_type": "markdown",
   "metadata": {},
   "source": [
    "* set是无序的，不可索引"
   ]
  },
  {
   "cell_type": "code",
   "execution_count": null,
   "metadata": {},
   "outputs": [],
   "source": [
    "s3 = {1,2,3,4,5}\n",
    "print(s3[0])"
   ]
  },
  {
   "cell_type": "markdown",
   "metadata": {},
   "source": [
    "* set内的元素不可重复，常常被用来去重"
   ]
  },
  {
   "cell_type": "code",
   "execution_count": null,
   "metadata": {},
   "outputs": [],
   "source": [
    "s4 = set([1,1,2,3,4,5,5,5])\n",
    "print(s4)"
   ]
  },
  {
   "cell_type": "markdown",
   "metadata": {},
   "source": [
    "* set正如数学中的集合一样，可以进行并、交、差运算"
   ]
  },
  {
   "cell_type": "code",
   "execution_count": null,
   "metadata": {},
   "outputs": [],
   "source": [
    "a = {1,2,3,4,5}\n",
    "b = {3,4,5,6,7}\n",
    "\n",
    "print(a-b)     # a和b的差集\n",
    "print(b-a)     # b和a的差集\n",
    "print(a|b)     # a和b的并集\n",
    "print(a&b)     # a和b的交集\n",
    "print(a^b)     # a和b中不同时存在的元素"
   ]
  },
  {
   "cell_type": "markdown",
   "metadata": {},
   "source": [
    "## Python的基本数据类型——Dictionary类（字典类）"
   ]
  },
  {
   "cell_type": "markdown",
   "metadata": {},
   "source": [
    "* 字典是无序的对象集合\n",
    "* 字典中的值是依靠“键-值”对存储的"
   ]
  },
  {
   "cell_type": "code",
   "execution_count": null,
   "metadata": {},
   "outputs": [],
   "source": [
    "d = {'key1':'value1','key2':'value2'}\n",
    "print(type(d))"
   ]
  },
  {
   "cell_type": "code",
   "execution_count": null,
   "metadata": {},
   "outputs": [],
   "source": [
    "d = {'key1':1,'key2':2}\n",
    "print(d)\n",
    "\n",
    "print(d['key1']) #输出键为“key1”的值"
   ]
  },
  {
   "cell_type": "markdown",
   "metadata": {},
   "source": [
    "* 分别调用字典的全部键和值"
   ]
  },
  {
   "cell_type": "code",
   "execution_count": null,
   "metadata": {},
   "outputs": [],
   "source": [
    "d = {'key1':'value1','key2':'value2'}\n",
    "\n",
    "print(d.keys()) #调用d这个dict对象的keys()方法\n",
    "print(d.values())"
   ]
  },
  {
   "cell_type": "markdown",
   "metadata": {},
   "source": [
    "* 修改/新增字典里的值"
   ]
  },
  {
   "cell_type": "code",
   "execution_count": null,
   "metadata": {},
   "outputs": [],
   "source": [
    "d = {'key1':'value1','key2':'value2'}\n",
    " \n",
    "d['key1'] = '???' #修改\n",
    "\n",
    "d['key3'] = '!!!' #新增\n",
    "\n",
    "print(d)"
   ]
  },
  {
   "cell_type": "markdown",
   "metadata": {},
   "source": [
    "## Python的数据类型转换"
   ]
  },
  {
   "cell_type": "markdown",
   "metadata": {},
   "source": [
    "|  函数   | 描述  |\n",
    "|  ----  | ----  |\n",
    "| int(x [,base])  | 将x转换为一个整数 |\n",
    "| float(x)  | 将x转换到一个浮点数 |\n",
    "| str(x)  | 将对象 x 转换为字符串 |\n",
    "| list(s)  | 将序列 s 转换为一个列表 |\n",
    "| set(s)  | 转换为可变集合 |\n",
    "| dict(d)  | 创建一个字典。d 必须是一个 (key, value)元组序列。 |\n"
   ]
  },
  {
   "cell_type": "code",
   "execution_count": null,
   "metadata": {},
   "outputs": [],
   "source": [
    "#Over，Thx！\n",
    "\n",
    "#Liangyu Wu 2020.9.26"
   ]
  }
 ],
 "metadata": {
  "kernelspec": {
   "display_name": "Python 3",
   "language": "python",
   "name": "python3"
  },
  "language_info": {
   "codemirror_mode": {
    "name": "ipython",
    "version": 3
   },
   "file_extension": ".py",
   "mimetype": "text/x-python",
   "name": "python",
   "nbconvert_exporter": "python",
   "pygments_lexer": "ipython3",
   "version": "3.7.3"
  }
 },
 "nbformat": 4,
 "nbformat_minor": 2
}
